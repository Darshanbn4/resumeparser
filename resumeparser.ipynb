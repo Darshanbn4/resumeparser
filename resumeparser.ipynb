{
 "cells": [
  {
   "cell_type": "code",
   "execution_count": 1,
   "id": "cc529dae",
   "metadata": {
    "scrolled": true
   },
   "outputs": [
    {
     "name": "stdout",
     "output_type": "stream",
     "text": [
      "Requirement already satisfied: nltk in c:\\users\\admin\\anaconda3\\lib\\site-packages (3.7)Note: you may need to restart the kernel to use updated packages.\n",
      "\n",
      "Requirement already satisfied: click in c:\\users\\admin\\anaconda3\\lib\\site-packages (from nltk) (8.0.4)\n",
      "Requirement already satisfied: joblib in c:\\users\\admin\\anaconda3\\lib\\site-packages (from nltk) (1.2.0)\n",
      "Requirement already satisfied: regex>=2021.8.3 in c:\\users\\admin\\anaconda3\\lib\\site-packages (from nltk) (2022.7.9)\n",
      "Requirement already satisfied: tqdm in c:\\users\\admin\\anaconda3\\lib\\site-packages (from nltk) (4.65.0)\n",
      "Requirement already satisfied: colorama in c:\\users\\admin\\anaconda3\\lib\\site-packages (from click->nltk) (0.4.6)\n"
     ]
    }
   ],
   "source": [
    "pip install nltk\n"
   ]
  },
  {
   "cell_type": "code",
   "execution_count": 2,
   "id": "b66c48a2",
   "metadata": {},
   "outputs": [
    {
     "name": "stderr",
     "output_type": "stream",
     "text": [
      "[nltk_data] Downloading package punkt to\n",
      "[nltk_data]     C:\\Users\\Admin\\AppData\\Roaming\\nltk_data...\n",
      "[nltk_data]   Package punkt is already up-to-date!\n"
     ]
    },
    {
     "data": {
      "text/plain": [
       "True"
      ]
     },
     "execution_count": 2,
     "metadata": {},
     "output_type": "execute_result"
    }
   ],
   "source": [
    "import nltk\n",
    "nltk.download('punkt')"
   ]
  },
  {
   "cell_type": "code",
   "execution_count": 3,
   "id": "13c626d2",
   "metadata": {},
   "outputs": [
    {
     "name": "stderr",
     "output_type": "stream",
     "text": [
      "[nltk_data] Downloading package stopwords to\n",
      "[nltk_data]     C:\\Users\\Admin\\AppData\\Roaming\\nltk_data...\n",
      "[nltk_data]   Package stopwords is already up-to-date!\n"
     ]
    },
    {
     "data": {
      "text/plain": [
       "True"
      ]
     },
     "execution_count": 3,
     "metadata": {},
     "output_type": "execute_result"
    }
   ],
   "source": [
    "import nltk\n",
    "nltk.download('stopwords')"
   ]
  },
  {
   "cell_type": "code",
   "execution_count": 4,
   "id": "8dd3e92a",
   "metadata": {},
   "outputs": [
    {
     "name": "stdout",
     "output_type": "stream",
     "text": [
      "Matching Score of the Best Candidate: 2\n",
      "Best Candidate:\n",
      "I have excellent communication skills and ready to move anywhere as company requirement and 4 years of experience in python and java\n"
     ]
    }
   ],
   "source": [
    "import nltk \n",
    "from nltk.corpus import stopwords \n",
    "from nltk.tokenize import word_tokenize\n",
    "\n",
    "keywords = ['python', 'java', 'machine learning', 'communication skills']\n",
    "\n",
    "def parse_resume(resume_text):\n",
    "    tokens = word_tokenize(resume_text)\n",
    "    stop_words = set(stopwords.words('english'))\n",
    "    filtered_tokens = [token.lower() for token in tokens if token.lower() not in stop_words]\n",
    "    \n",
    "    matched_keywords = [keyword for keyword in keywords if keyword in filtered_tokens]\n",
    "    \n",
    "    years_of_experience = 0\n",
    "    for i, token in enumerate(filtered_tokens[:-3]):\n",
    "        if token.isdigit() and filtered_tokens[i + 1] == 'years' and filtered_tokens[i + 2] == 'of' and filtered_tokens[i + 3] == 'experience':\n",
    "            years_of_experience = int(token)\n",
    "            break\n",
    "    \n",
    "    matching_score = len(matched_keywords) + years_of_experience\n",
    "    return matching_score\n",
    "\n",
    "resumes = [\n",
    "    \"I have excellent communication skills and ready to move anywhere as company requirement and 4 years of experience in python and java\",\n",
    "    \"I am a software developer with expertise in java\",\n",
    "    \"I am a ai engineer with good python and java skills\"\n",
    "]\n",
    "\n",
    "best_candidate = None\n",
    "best_score = 0\n",
    "\n",
    "for resume in resumes:\n",
    "    score = parse_resume(resume)\n",
    "    if score > best_score:\n",
    "        best_candidate = resume\n",
    "        best_score = score\n",
    "\n",
    "print(\"Matching Score of the Best Candidate:\", best_score)\n",
    "print(\"Best Candidate:\")\n",
    "print(best_candidate)\n"
   ]
  },
  {
   "cell_type": "code",
   "execution_count": null,
   "id": "82ed768d",
   "metadata": {},
   "outputs": [],
   "source": []
  }
 ],
 "metadata": {
  "kernelspec": {
   "display_name": "Python 3 (ipykernel)",
   "language": "python",
   "name": "python3"
  },
  "language_info": {
   "codemirror_mode": {
    "name": "ipython",
    "version": 3
   },
   "file_extension": ".py",
   "mimetype": "text/x-python",
   "name": "python",
   "nbconvert_exporter": "python",
   "pygments_lexer": "ipython3",
   "version": "3.11.3"
  }
 },
 "nbformat": 4,
 "nbformat_minor": 5
}
